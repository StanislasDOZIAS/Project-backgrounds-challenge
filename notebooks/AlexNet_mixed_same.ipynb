{
 "cells": [
  {
   "cell_type": "code",
   "execution_count": 1,
   "metadata": {},
   "outputs": [],
   "source": [
    "import sys  \n",
    "sys.path.insert(0, '../')\n",
    "from torchvision import transforms\n",
    "import torch\n",
    "import torch.nn as nn\n",
    "import numpy as np\n",
    "import json\n",
    "import os\n",
    "import time\n",
    "from argparse import ArgumentParser\n",
    "from tools.datasets import ImageNet, ImageNet9\n",
    "from tools.model_utils import make_and_restore_model, eval_model\n",
    "from tools.folder import pil_loader\n",
    "from PIL import Image\n",
    "import tqdm\n",
    "from matplotlib import pyplot as plt"
   ]
  },
  {
   "cell_type": "code",
   "execution_count": 2,
   "metadata": {},
   "outputs": [],
   "source": [
    "device = torch.device('cuda' if torch.cuda.is_available() else 'cpu')"
   ]
  },
  {
   "cell_type": "code",
   "execution_count": 3,
   "metadata": {},
   "outputs": [
    {
     "name": "stdout",
     "output_type": "stream",
     "text": [
      "==> Preparing dataset ImageNet9..\n",
      "==> Preparing dataset ImageNet9..\n"
     ]
    }
   ],
   "source": [
    "batch_size = 16\n",
    "workers = 0\n",
    "variation = \"mixed_same\"\n",
    "dataset = ImageNet9(\"../data/\"+variation)\n",
    "checkpoint = \"../models\\in9l_resnet50.pt\"\n",
    "val_loader = ImageNet9(\"..\\data\\original\").make_loaders(batch_size=batch_size, workers=workers)\n",
    "train_loader = ImageNet9(\"..\\data\\original\").make_loaders(batch_size=batch_size, workers=workers, shuffle_val=True, test = False)"
   ]
  },
  {
   "cell_type": "code",
   "execution_count": 4,
   "metadata": {},
   "outputs": [],
   "source": [
    "n_classes = 9\n",
    "def l_2_onehot(labels,nb_digits=n_classes):\n",
    "    # take labels (from the dataloader) and return labels onehot-encoded\n",
    "    #\n",
    "    # your code here\n",
    "    #\n",
    "    label_onehot = torch.FloatTensor(labels.shape[0], nb_digits)\n",
    "    label_onehot.zero_()\n",
    "    label_onehot = label_onehot.scatter_(1,labels.unsqueeze(1),1).cpu()\n",
    "\n",
    "    return label_onehot"
   ]
  },
  {
   "cell_type": "code",
   "execution_count": 5,
   "metadata": {},
   "outputs": [],
   "source": [
    "class AlexNet(nn.Module):\n",
    "\n",
    "    def __init__(self, num_classes=1000):\n",
    "        super(AlexNet, self).__init__()\n",
    "        self.features = nn.Sequential(nn.Conv2d(3,64,11,4,2),\n",
    "                                      nn.ReLU(inplace=True),\n",
    "                                      nn.MaxPool2d(3,2,0),\n",
    "                                      nn.Conv2d(64,192,5,1,2),\n",
    "                                      nn.ReLU(inplace=True),\n",
    "                                      nn.MaxPool2d(3,2,0),\n",
    "                                      nn.Conv2d(192,384,3,1,1),\n",
    "                                      nn.ReLU(inplace=True),\n",
    "                                      nn.Conv2d(384,256,3,1,1),\n",
    "                                      nn.ReLU(inplace=True),\n",
    "                                      nn.Conv2d(256,256,3,1,1),\n",
    "                                      nn.ReLU(inplace=True),\n",
    "                                      nn.MaxPool2d(3,2,0))\n",
    "        self.avgpool = nn.AdaptiveAvgPool2d((6, 6))\n",
    "        self.classifier = nn.Sequential(\n",
    "            nn.Dropout(),\n",
    "            nn.Linear(256 * 6 * 6, 4096),\n",
    "            nn.ReLU(inplace=True),\n",
    "            nn.Dropout(),\n",
    "            nn.Linear(4096, 4096),\n",
    "            nn.ReLU(inplace=True),\n",
    "            nn.Linear(4096, num_classes),\n",
    "        )\n",
    "        self._initialize_weights()\n",
    "\n",
    "    def forward(self, x):\n",
    "        x = self.features(x)\n",
    "        x = self.avgpool(x)\n",
    "        x = x.view(x.size(0), 256 * 6 * 6)\n",
    "        x = self.classifier(x)\n",
    "        return x\n",
    "\n",
    "\n",
    "    def _initialize_weights(self):\n",
    "        for m in self.modules():\n",
    "            if isinstance(m, nn.Conv2d):\n",
    "                nn.init.kaiming_normal_(m.weight, mode='fan_out', nonlinearity='relu')\n",
    "                if m.bias is not None:\n",
    "                    nn.init.constant_(m.bias, 0)\n",
    "            elif isinstance(m, nn.Linear):\n",
    "                nn.init.normal_(m.weight, 0, 0.01)\n",
    "                nn.init.constant_(m.bias, 0)"
   ]
  },
  {
   "cell_type": "code",
   "execution_count": 6,
   "metadata": {},
   "outputs": [],
   "source": [
    "criterion = nn.CrossEntropyLoss()\n",
    "\n",
    "def accuracy(net, test_loader, cuda=True):\n",
    "  net.eval()\n",
    "  correct = 0\n",
    "  total = 0\n",
    "  loss = 0\n",
    "  with torch.no_grad():\n",
    "      for data in test_loader:\n",
    "          images, labels = data\n",
    "          if cuda:\n",
    "            images = images.type(torch.cuda.FloatTensor)\n",
    "            labels = labels.type(torch.cuda.LongTensor)\n",
    "          outputs = net(images)\n",
    "          \n",
    "          loss += criterion(outputs, labels)\n",
    "          _, predicted = torch.max(outputs.data, 1)\n",
    "          total += labels.size(0)\n",
    "          correct += (predicted == labels).sum().item()\n",
    "\n",
    "  net.train()\n",
    "\n",
    "  return 100.0 * correct/ total, loss.item()"
   ]
  },
  {
   "cell_type": "code",
   "execution_count": 7,
   "metadata": {},
   "outputs": [],
   "source": [
    "def train(net, optimizer, train_loader, test_loader, loss,  n_epoch = 5, test_acc_period = 5, cuda=True):\n",
    "  loss_train = []\n",
    "  loss_test = []\n",
    "  acc_train = []\n",
    "  acc_test = []\n",
    "  cur_acc, cur_loss = accuracy(net, train_loader, cuda=cuda)\n",
    "  print('[%d] train loss: %.3f' %(0, cur_loss))\n",
    "  print('[%d] train acc: %.3f' %(0, cur_acc))\n",
    "  cur_acc, cur_loss = accuracy(net, test_loader, cuda=cuda)\n",
    "  print('[%d] test loss: %.3f' %(0, cur_loss))\n",
    "  print('[%d] test acc: %.3f' %(0, cur_acc))\n",
    "  print(\"####################\")\n",
    "  for epoch in tqdm.tqdm_notebook(range(n_epoch)):  # loop over the dataset multiple times\n",
    "\n",
    "    for data in train_loader:\n",
    "      # get the inputs\n",
    "      inputs, labels = data\n",
    "      if cuda:\n",
    "        inputs = inputs.type(torch.cuda.FloatTensor)\n",
    "        labels = labels.type(torch.cuda.LongTensor)\n",
    "      # print(inputs.shape)\n",
    "\n",
    "      # zero the parameter gradients\n",
    "      optimizer.zero_grad()\n",
    "\n",
    "      outputs = net(inputs)\n",
    "\n",
    "      loss = criterion(outputs, labels)\n",
    "      loss.backward()\n",
    "      optimizer.step()\n",
    "        \n",
    "    if (epoch+1) % test_acc_period == 0:\n",
    "      cur_acc, cur_loss = accuracy(net, train_loader, cuda=cuda)\n",
    "      print('[%d] train loss: %.3f' %(epoch + 1, cur_loss))\n",
    "      print('[%d] train acc: %.3f' %(epoch + 1, cur_acc))\n",
    "      loss_train.append(cur_loss)\n",
    "      acc_train.append(cur_acc)\n",
    "      cur_acc, cur_loss = accuracy(net, test_loader, cuda=cuda)\n",
    "      print('[%d] test loss: %.3f' %(epoch + 1, cur_loss))\n",
    "      print('[%d] test acc: %.3f' %(epoch + 1, cur_acc))\n",
    "      loss_test.append(cur_loss)\n",
    "      acc_test.append(cur_acc)\n",
    "      print(\"####################\")\n",
    "    \n",
    "  print('Finished Training')\n",
    "  return loss_train, loss_test, acc_train, acc_test"
   ]
  },
  {
   "cell_type": "code",
   "execution_count": 8,
   "metadata": {},
   "outputs": [
    {
     "name": "stdout",
     "output_type": "stream",
     "text": [
      "using cuda\n",
      "[0] train loss: 558.182\n",
      "[0] train acc: 11.111\n",
      "[0] test loss: 558.175\n",
      "[0] test acc: 11.111\n",
      "####################\n"
     ]
    },
    {
     "name": "stderr",
     "output_type": "stream",
     "text": [
      "<ipython-input-7-f3b60c03f6f4>:13: TqdmDeprecationWarning: This function will be removed in tqdm==5.0.0\n",
      "Please use `tqdm.notebook.tqdm` instead of `tqdm.tqdm_notebook`\n",
      "  for epoch in tqdm.tqdm_notebook(range(n_epoch)):  # loop over the dataset multiple times\n"
     ]
    },
    {
     "data": {
      "application/vnd.jupyter.widget-view+json": {
       "model_id": "8fa2eb8c0f2544a8ad3ecf656340cf82",
       "version_major": 2,
       "version_minor": 0
      },
      "text/plain": [
       "HBox(children=(HTML(value=''), FloatProgress(value=0.0, max=30.0), HTML(value='')))"
      ]
     },
     "metadata": {},
     "output_type": "display_data"
    },
    {
     "name": "stdout",
     "output_type": "stream",
     "text": [
      "[5] train loss: 444.260\n",
      "[5] train acc: 36.617\n",
      "[5] test loss: 444.254\n",
      "[5] test acc: 36.617\n",
      "####################\n",
      "[10] train loss: 295.087\n",
      "[10] train acc: 57.605\n",
      "[10] test loss: 296.287\n",
      "[10] test acc: 57.605\n",
      "####################\n",
      "[15] train loss: 125.023\n",
      "[15] train acc: 83.457\n",
      "[15] test loss: 124.514\n",
      "[15] test acc: 83.457\n",
      "####################\n",
      "[20] train loss: 26.958\n",
      "[20] train acc: 97.309\n",
      "[20] test loss: 26.722\n",
      "[20] test acc: 97.309\n",
      "####################\n",
      "[25] train loss: 11.727\n",
      "[25] train acc: 98.963\n",
      "[25] test loss: 11.742\n",
      "[25] test acc: 98.963\n",
      "####################\n",
      "[30] train loss: 5.420\n",
      "[30] train acc: 99.556\n",
      "[30] test loss: 5.219\n",
      "[30] test acc: 99.556\n",
      "####################\n",
      "\n",
      "Finished Training\n"
     ]
    },
    {
     "data": {
      "text/plain": [
       "(99.55555555555556, 5.218827247619629)"
      ]
     },
     "execution_count": 8,
     "metadata": {},
     "output_type": "execute_result"
    }
   ],
   "source": [
    "net = AlexNet(num_classes=9)\n",
    "\n",
    "# net = AlexNet(10)\n",
    "use_cuda = True\n",
    "if use_cuda and torch.cuda.is_available():\n",
    "    print(\"using cuda\")\n",
    "    net.cuda()\n",
    "learning_rate = 1e-4\n",
    "optimizer = torch.optim.Adam(net.parameters(),lr=learning_rate)\n",
    "loss_train, loss_test, acc_train, acc_test = train(net, optimizer, train_loader, val_loader, criterion,  n_epoch = 30, test_acc_period = 5)\n",
    "accuracy(net, val_loader, cuda=use_cuda)"
   ]
  },
  {
   "cell_type": "code",
   "execution_count": 9,
   "metadata": {},
   "outputs": [
    {
     "data": {
      "image/png": "[encoded data removed]",
      "text/plain": [
       "<Figure size 432x288 with 1 Axes>"
      ]
     },
     "metadata": {
      "needs_background": "light"
     },
     "output_type": "display_data"
    }
   ],
   "source": [
    "plt.plot(range(len(loss_train)), loss_train, label = \"train\")\n",
    "plt.plot(range(len(loss_test)), loss_test, label = \"test\")\n",
    "plt.legend()\n",
    "plt.show()"
   ]
  },
  {
   "cell_type": "code",
   "execution_count": 13,
   "metadata": {},
   "outputs": [
    {
     "data": {
      "image/png": "[encoded data removed]",
      "text/plain": [
       "<Figure size 432x288 with 1 Axes>"
      ]
     },
     "metadata": {
      "needs_background": "light"
     },
     "output_type": "display_data"
    }
   ],
   "source": [
    "plt.plot(range(len(acc_train)), acc_train, label = \"train\")\n",
    "plt.plot(range(len(acc_test)), acc_test, label = \"test\")\n",
    "plt.legend()\n",
    "plt.show()"
   ]
  },
  {
   "cell_type": "code",
   "execution_count": 11,
   "metadata": {},
   "outputs": [],
   "source": [
    "def accuracy_print(net, test_loader, cuda=True):\n",
    "  net.eval()\n",
    "  correct = 0\n",
    "  total = 0\n",
    "  loss = 0\n",
    "  with torch.no_grad():\n",
    "      for data in test_loader:\n",
    "          images, labels = data\n",
    "          if cuda:\n",
    "            images = images.type(torch.cuda.FloatTensor)\n",
    "            labels = labels.type(torch.cuda.LongTensor)\n",
    "          outputs = net(images)\n",
    "          \n",
    "          loss += criterion(outputs, labels)\n",
    "          _, predicted = torch.max(outputs.data, 1)\n",
    "\n",
    "          print(\"###################\")\n",
    "          print(predicted)\n",
    "          print(labels)\n",
    "          total += labels.size(0)\n",
    "          correct += (predicted == labels).sum().item()\n",
    "          break\n",
    "\n",
    "  net.train()\n",
    "  print('Accuracy of the network on the test images: %d %%' % (\n",
    "      100 * correct / total))\n",
    "  \n",
    "  return 100.0 * correct/ total, loss.item()"
   ]
  },
  {
   "cell_type": "code",
   "execution_count": 12,
   "metadata": {},
   "outputs": [
    {
     "name": "stdout",
     "output_type": "stream",
     "text": [
      "###################\n",
      "tensor([0, 0, 0, 0, 0, 0, 0, 0, 0, 0, 0, 0, 0, 0, 0, 0], device='cuda:0')\n",
      "tensor([0, 0, 0, 0, 0, 0, 0, 0, 0, 0, 0, 0, 0, 0, 0, 0], device='cuda:0')\n",
      "Accuracy of the network on the test images: 100 %\n"
     ]
    },
    {
     "data": {
      "text/plain": [
       "(100.0, 0.00913793221116066)"
      ]
     },
     "execution_count": 12,
     "metadata": {},
     "output_type": "execute_result"
    }
   ],
   "source": [
    "accuracy_print(net, val_loader, cuda=use_cuda)"
   ]
  }
 ],
 "metadata": {
  "interpreter": {
   "hash": "5cbe5dddac4a504aec10b99e9994248c38bc561226fea72a4c0c378105f225ff"
  },
  "kernelspec": {
   "display_name": "Python 3.8.5 ('base')",
   "language": "python",
   "name": "python3"
  },
  "language_info": {
   "codemirror_mode": {
    "name": "ipython",
    "version": 3
   },
   "file_extension": ".py",
   "mimetype": "text/x-python",
   "name": "python",
   "nbconvert_exporter": "python",
   "pygments_lexer": "ipython3",
   "version": "3.8.5"
  },
  "orig_nbformat": 4
 },
 "nbformat": 4,
 "nbformat_minor": 2
}
