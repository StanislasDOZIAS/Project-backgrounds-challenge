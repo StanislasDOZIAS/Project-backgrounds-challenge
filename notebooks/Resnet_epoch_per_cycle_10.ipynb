{
 "cells": [
  {
   "cell_type": "code",
   "execution_count": 1,
   "metadata": {},
   "outputs": [],
   "source": [
    "import sys  \n",
    "sys.path.insert(0, '../')\n",
    "from tools.training import make_training, test_on_dataset\n",
    "from imagenet_models.resnet import resnet18\n",
    "\n",
    "import numpy as np\n",
    "import torch.nn as nn\n",
    "import torch"
   ]
  },
  {
   "cell_type": "code",
   "execution_count": 2,
   "metadata": {},
   "outputs": [],
   "source": [
    "variation = \"original\""
   ]
  },
  {
   "cell_type": "code",
   "execution_count": 3,
   "metadata": {},
   "outputs": [],
   "source": [
    "net = resnet18(pretrained=True)\n",
    "temp_net = resnet18(pretrained=False)"
   ]
  },
  {
   "cell_type": "code",
   "execution_count": 4,
   "metadata": {},
   "outputs": [],
   "source": [
    "net.fc = nn.Linear(512, 9)\n",
    "temp_net.fc = nn.Linear(512, 9)"
   ]
  },
  {
   "cell_type": "code",
   "execution_count": 5,
   "metadata": {},
   "outputs": [
    {
     "data": {
      "text/plain": [
       "<All keys matched successfully>"
      ]
     },
     "execution_count": 5,
     "metadata": {},
     "output_type": "execute_result"
    }
   ],
   "source": [
    "net.load_state_dict(torch.load(\"../models/ResNet_base_noSWA.pt\"))"
   ]
  },
  {
   "cell_type": "code",
   "execution_count": 6,
   "metadata": {},
   "outputs": [],
   "source": [
    "n_epoch_first_train = 0\n",
    "n_cycle = 10\n",
    "n_epoch_cycle = 10"
   ]
  },
  {
   "cell_type": "code",
   "execution_count": 7,
   "metadata": {},
   "outputs": [
    {
     "name": "stdout",
     "output_type": "stream",
     "text": [
      "using cuda\n"
     ]
    },
    {
     "data": {
      "application/vnd.jupyter.widget-view+json": {
       "model_id": "eaa1db4add7045d6a3b84a024a09d8d1",
       "version_major": 2,
       "version_minor": 0
      },
      "text/plain": [
       "HBox(children=(HTML(value=''), FloatProgress(value=0.0, max=10.0), HTML(value='')))"
      ]
     },
     "metadata": {},
     "output_type": "display_data"
    },
    {
     "name": "stdout",
     "output_type": "stream",
     "text": [
      "\n",
      "Finished Training\n",
      "Final original acc :  100.0\n",
      "Final mixed_same acc :  87.28395061728395\n",
      "Final mixed_rand acc :  73.87654320987654\n",
      "\n",
      "Accuracy Graph with  10  epoch per cycle\n"
     ]
    },
    {
     "data": {
      "image/png": "[encoded data removed]",
      "text/plain": [
       "<Figure size 432x288 with 1 Axes>"
      ]
     },
     "metadata": {
      "needs_background": "light"
     },
     "output_type": "display_data"
    }
   ],
   "source": [
    "original_acc, mixed_same_acc, mixed_rand_acc = make_training(net,\n",
    "                                                             temp_net,\n",
    "                                                             n_epoch_first_train = n_epoch_first_train,\n",
    "                                                             n_cycle = n_cycle,\n",
    "                                                             n_epoch_cycle = n_epoch_cycle,\n",
    "                                                             batch_size = 16,\n",
    "                                                             workers = 0,\n",
    "                                                             criterion = nn.CrossEntropyLoss(),\n",
    "                                                             test_acc_period = 5,\n",
    "                                                             _print = False)"
   ]
  },
  {
   "cell_type": "code",
   "execution_count": 8,
   "metadata": {},
   "outputs": [],
   "source": [
    "np.save(\"../curves/original_acc_\" + str(n_epoch_cycle) + \".npy\", np.array(original_acc))\n",
    "np.save(\"../curves/mixed_same_acc_\" + str(n_epoch_cycle) + \".npy\", np.array(mixed_same_acc))\n",
    "np.save(\"../curves/mixed_rand_acc_\" + str(n_epoch_cycle) + \".npy\", np.array(mixed_rand_acc))"
   ]
  },
  {
   "cell_type": "code",
   "execution_count": 9,
   "metadata": {},
   "outputs": [
    {
     "name": "stdout",
     "output_type": "stream",
     "text": [
      "Accuracy on  original  :  100.0\n",
      "Accuracy on  mixed_same  :  87.28395061728395\n",
      "Accuracy on  mixed_next  :  69.75308641975309\n",
      "Accuracy on  mixed_rand  :  73.87654320987654\n",
      "Accuracy on  no_fg  :  46.370370370370374\n",
      "Accuracy on  only_bg_b  :  21.753086419753085\n",
      "Accuracy on  only_bg_t  :  29.530864197530864\n",
      "Accuracy on  only_fg  :  87.90123456790124\n"
     ]
    }
   ],
   "source": [
    "for variation in [\"original\",\"mixed_same\", \"mixed_next\", \"mixed_rand\", \"no_fg\", \"only_bg_b\", \"only_bg_t\", \"only_fg\"] :\n",
    "    acc = test_on_dataset(variation = variation, net=net)\n",
    "    print(\"Accuracy on \", variation, \" : \", acc)"
   ]
  },
  {
   "cell_type": "code",
   "execution_count": 10,
   "metadata": {},
   "outputs": [
    {
     "name": "stdout",
     "output_type": "stream",
     "text": [
      "Accuracy on  original  :  100.0\n",
      "Accuracy on  mixed_same  :  95.1604938271605\n",
      "Accuracy on  mixed_next  :  80.71604938271605\n",
      "Accuracy on  mixed_rand  :  84.12345679012346\n",
      "Accuracy on  no_fg  :  61.25925925925926\n",
      "Accuracy on  only_bg_b  :  30.19753086419753\n",
      "Accuracy on  only_bg_t  :  36.888888888888886\n",
      "Accuracy on  only_fg  :  95.25925925925925\n"
     ]
    }
   ],
   "source": [
    "for variation in [\"original\",\"mixed_same\", \"mixed_next\", \"mixed_rand\", \"no_fg\", \"only_bg_b\", \"only_bg_t\", \"only_fg\"] :\n",
    "    acc = test_on_dataset(variation = variation, net=temp_net)\n",
    "    print(\"Accuracy on \", variation, \" : \", acc)"
   ]
  },
  {
   "cell_type": "code",
   "execution_count": null,
   "metadata": {},
   "outputs": [],
   "source": []
  }
 ],
 "metadata": {
  "interpreter": {
   "hash": "5cbe5dddac4a504aec10b99e9994248c38bc561226fea72a4c0c378105f225ff"
  },
  "kernelspec": {
   "display_name": "Python 3.8.5 ('base')",
   "language": "python",
   "name": "python3"
  },
  "language_info": {
   "codemirror_mode": {
    "name": "ipython",
    "version": 3
   },
   "file_extension": ".py",
   "mimetype": "text/x-python",
   "name": "python",
   "nbconvert_exporter": "python",
   "pygments_lexer": "ipython3",
   "version": "3.8.5"
  },
  "orig_nbformat": 4
 },
 "nbformat": 4,
 "nbformat_minor": 2
}
