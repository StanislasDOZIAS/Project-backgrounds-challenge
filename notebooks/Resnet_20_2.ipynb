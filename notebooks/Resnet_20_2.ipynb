{
 "cells": [
  {
   "cell_type": "code",
   "execution_count": 1,
   "metadata": {},
   "outputs": [],
   "source": [
    "import sys  \n",
    "sys.path.insert(0, '../')\n",
    "from tools.training import make_training, test_on_dataset\n",
    "from imagenet_models.resnet import resnet18\n",
    "\n",
    "import torch.nn as nn\n",
    "import torch"
   ]
  },
  {
   "cell_type": "code",
   "execution_count": 2,
   "metadata": {},
   "outputs": [],
   "source": [
    "variation = \"original\""
   ]
  },
  {
   "cell_type": "code",
   "execution_count": 3,
   "metadata": {},
   "outputs": [],
   "source": [
    "net = resnet18(pretrained=True)\n",
    "temp_net = resnet18(pretrained=False)"
   ]
  },
  {
   "cell_type": "code",
   "execution_count": 5,
   "metadata": {},
   "outputs": [],
   "source": [
    "net.fc = nn.Linear(512, 9)\n",
    "temp_net.fc = nn.Linear(512, 9)"
   ]
  },
  {
   "cell_type": "code",
   "execution_count": 6,
   "metadata": {},
   "outputs": [
    {
     "data": {
      "text/plain": [
       "<All keys matched successfully>"
      ]
     },
     "execution_count": 6,
     "metadata": {},
     "output_type": "execute_result"
    }
   ],
   "source": [
    "net.load_state_dict(torch.load(\"../models/ResNet_base_noSWA.pt\"))"
   ]
  },
  {
   "cell_type": "code",
   "execution_count": 7,
   "metadata": {},
   "outputs": [],
   "source": [
    "n_epoch_first_train = 0\n",
    "n_cycle = 20\n",
    "n_epoch_cycle = 2"
   ]
  },
  {
   "cell_type": "code",
   "execution_count": 8,
   "metadata": {},
   "outputs": [
    {
     "name": "stdout",
     "output_type": "stream",
     "text": [
      "using cuda\n"
     ]
    },
    {
     "data": {
      "application/vnd.jupyter.widget-view+json": {
       "model_id": "d618b8ea647d4be3bcbbecc20e4e136b",
       "version_major": 2,
       "version_minor": 0
      },
      "text/plain": [
       "HBox(children=(HTML(value=''), FloatProgress(value=1.0, bar_style='info', layout=Layout(width='20px'), max=1.0…"
      ]
     },
     "metadata": {},
     "output_type": "display_data"
    },
    {
     "name": "stdout",
     "output_type": "stream",
     "text": [
      "\n"
     ]
    },
    {
     "data": {
      "application/vnd.jupyter.widget-view+json": {
       "model_id": "ce1b5e2fc4354768bea5dfdc273b3d94",
       "version_major": 2,
       "version_minor": 0
      },
      "text/plain": [
       "HBox(children=(HTML(value=''), FloatProgress(value=1.0, bar_style='info', layout=Layout(width='20px'), max=1.0…"
      ]
     },
     "metadata": {},
     "output_type": "display_data"
    },
    {
     "name": "stdout",
     "output_type": "stream",
     "text": [
      "\n"
     ]
    },
    {
     "data": {
      "application/vnd.jupyter.widget-view+json": {
       "model_id": "c6eaa9857fd64d6285cea0fdb5ae1810",
       "version_major": 2,
       "version_minor": 0
      },
      "text/plain": [
       "HBox(children=(HTML(value=''), FloatProgress(value=0.0, max=20.0), HTML(value='')))"
      ]
     },
     "metadata": {},
     "output_type": "display_data"
    }
   ],
   "source": [
    "make_training(variation,\n",
    "              net,\n",
    "              temp_net,\n",
    "              n_epoch_first_train = n_epoch_first_train,\n",
    "              n_cycle = n_cycle,\n",
    "              n_epoch_cycle = n_epoch_cycle,\n",
    "              batch_size = 16,\n",
    "              workers = 0,\n",
    "              criterion = nn.CrossEntropyLoss(),\n",
    "              test_acc_period = 5,\n",
    "              _print = False)"
   ]
  },
  {
   "cell_type": "code",
   "execution_count": null,
   "metadata": {},
   "outputs": [],
   "source": [
    "PATH = \"../models/ResNet_\" + str(n_cycle) + \"_\" + str(n_epoch_cycle)  + \"_noSWA.pt\"\n",
    "torch.save(net.state_dict(), PATH)\n",
    "\n",
    "PATH = \"../models/ResNet_\" + str(n_cycle)  + \"_\" + str(n_epoch_cycle)  + \"_SWA.pt\"\n",
    "torch.save(temp_net.state_dict(), PATH)"
   ]
  },
  {
   "cell_type": "code",
   "execution_count": null,
   "metadata": {},
   "outputs": [
    {
     "name": "stdout",
     "output_type": "stream",
     "text": [
      "Accuracy on  original  :  100.0\n",
      "Accuracy on  mixed_same  :  91.25925925925925\n",
      "Accuracy on  mixed_next  :  77.58024691358025\n",
      "Accuracy on  mixed_rand  :  80.0246913580247\n",
      "Accuracy on  no_fg  :  57.08641975308642\n",
      "Accuracy on  only_bg_b  :  28.19753086419753\n",
      "Accuracy on  only_bg_t  :  34.17283950617284\n",
      "Accuracy on  only_fg  :  91.30864197530865\n"
     ]
    }
   ],
   "source": [
    "for variation in [\"original\",\"mixed_same\", \"mixed_next\", \"mixed_rand\", \"no_fg\", \"only_bg_b\", \"only_bg_t\", \"only_fg\"] :\n",
    "    acc = test_on_dataset(variation = variation, net=net)\n",
    "    print(\"Accuracy on \", variation, \" : \", acc)"
   ]
  },
  {
   "cell_type": "code",
   "execution_count": null,
   "metadata": {},
   "outputs": [
    {
     "name": "stdout",
     "output_type": "stream",
     "text": [
      "Accuracy on  original  :  100.0\n",
      "Accuracy on  mixed_same  :  94.8395061728395\n",
      "Accuracy on  mixed_next  :  81.90123456790124\n",
      "Accuracy on  mixed_rand  :  84.32098765432099\n",
      "Accuracy on  no_fg  :  59.851851851851855\n",
      "Accuracy on  only_bg_b  :  32.34567901234568\n",
      "Accuracy on  only_bg_t  :  39.23456790123457\n",
      "Accuracy on  only_fg  :  95.95061728395062\n"
     ]
    }
   ],
   "source": [
    "for variation in [\"original\",\"mixed_same\", \"mixed_next\", \"mixed_rand\", \"no_fg\", \"only_bg_b\", \"only_bg_t\", \"only_fg\"] :\n",
    "    acc = test_on_dataset(variation = variation, net=temp_net)\n",
    "    print(\"Accuracy on \", variation, \" : \", acc)"
   ]
  },
  {
   "cell_type": "code",
   "execution_count": null,
   "metadata": {},
   "outputs": [],
   "source": []
  }
 ],
 "metadata": {
  "interpreter": {
   "hash": "5cbe5dddac4a504aec10b99e9994248c38bc561226fea72a4c0c378105f225ff"
  },
  "kernelspec": {
   "display_name": "Python 3.8.5 ('base')",
   "language": "python",
   "name": "python3"
  },
  "language_info": {
   "codemirror_mode": {
    "name": "ipython",
    "version": 3
   },
   "file_extension": ".py",
   "mimetype": "text/x-python",
   "name": "python",
   "nbconvert_exporter": "python",
   "pygments_lexer": "ipython3",
   "version": "3.8.5"
  },
  "orig_nbformat": 4
 },
 "nbformat": 4,
 "nbformat_minor": 2
}
