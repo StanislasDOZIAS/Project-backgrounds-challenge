{
 "cells": [
  {
   "cell_type": "code",
   "execution_count": 1,
   "metadata": {},
   "outputs": [],
   "source": [
    "import sys  \n",
    "sys.path.insert(0, '../')\n",
    "from tools.training import make_training, test_on_dataset\n",
    "from imagenet_models.resnet import resnet18\n",
    "\n",
    "import numpy as np\n",
    "import torch.nn as nn\n",
    "import torch"
   ]
  },
  {
   "cell_type": "code",
   "execution_count": 2,
   "metadata": {},
   "outputs": [],
   "source": [
    "variation = \"original\""
   ]
  },
  {
   "cell_type": "code",
   "execution_count": 3,
   "metadata": {},
   "outputs": [],
   "source": [
    "net = resnet18(pretrained=True)\n",
    "temp_net = resnet18(pretrained=False)"
   ]
  },
  {
   "cell_type": "code",
   "execution_count": 4,
   "metadata": {},
   "outputs": [],
   "source": [
    "net.fc = nn.Linear(512, 9)\n",
    "temp_net.fc = nn.Linear(512, 9)"
   ]
  },
  {
   "cell_type": "code",
   "execution_count": 5,
   "metadata": {},
   "outputs": [
    {
     "data": {
      "text/plain": [
       "<All keys matched successfully>"
      ]
     },
     "execution_count": 5,
     "metadata": {},
     "output_type": "execute_result"
    }
   ],
   "source": [
    "net.load_state_dict(torch.load(\"../models/ResNet_base_noSWA.pt\"))"
   ]
  },
  {
   "cell_type": "code",
   "execution_count": 6,
   "metadata": {},
   "outputs": [],
   "source": [
    "n_epoch_first_train = 0\n",
    "n_cycle = 20\n",
    "n_epoch_cycle = 15"
   ]
  },
  {
   "cell_type": "code",
   "execution_count": 7,
   "metadata": {},
   "outputs": [
    {
     "name": "stdout",
     "output_type": "stream",
     "text": [
      "using cuda\n"
     ]
    },
    {
     "data": {
      "application/vnd.jupyter.widget-view+json": {
       "model_id": "5f309d6e6cf84d6ab42bbfdf22f66fcc",
       "version_major": 2,
       "version_minor": 0
      },
      "text/plain": [
       "HBox(children=(HTML(value=''), FloatProgress(value=0.0, max=20.0), HTML(value='')))"
      ]
     },
     "metadata": {},
     "output_type": "display_data"
    },
    {
     "name": "stdout",
     "output_type": "stream",
     "text": [
      "\n",
      "Finished Training\n",
      "Final original acc :  100.0\n",
      "Final mixed_same acc :  83.75308641975309\n",
      "Final mixed_rand acc :  68.96296296296296\n",
      "\n",
      "Accuracy Graph with  15  epoch per cycle\n"
     ]
    },
    {
     "data": {
      "image/png": "[encoded data removed]",
      "text/plain": [
       "<Figure size 432x288 with 1 Axes>"
      ]
     },
     "metadata": {
      "needs_background": "light"
     },
     "output_type": "display_data"
    }
   ],
   "source": [
    "original_acc, mixed_same_acc, mixed_rand_acc = make_training(net,\n",
    "                                                             temp_net,\n",
    "                                                             n_epoch_first_train = n_epoch_first_train,\n",
    "                                                             n_cycle = n_cycle,\n",
    "                                                             n_epoch_cycle = n_epoch_cycle,\n",
    "                                                             batch_size = 16,\n",
    "                                                             workers = 0,\n",
    "                                                             criterion = nn.CrossEntropyLoss(),\n",
    "                                                             test_acc_period = 5,\n",
    "                                                             _print = False)"
   ]
  },
  {
   "cell_type": "code",
   "execution_count": 8,
   "metadata": {},
   "outputs": [],
   "source": [
    "np.save(\"../curves/original_acc_\" + str(n_epoch_cycle) + \".npy\", np.array(original_acc))\n",
    "np.save(\"../curves/mixed_same_acc_\" + str(n_epoch_cycle) + \".npy\", np.array(mixed_same_acc))\n",
    "np.save(\"../curves/mixed_rand_acc_\" + str(n_epoch_cycle) + \".npy\", np.array(mixed_rand_acc))"
   ]
  },
  {
   "cell_type": "code",
   "execution_count": 9,
   "metadata": {},
   "outputs": [
    {
     "name": "stdout",
     "output_type": "stream",
     "text": [
      "Accuracy on  original  :  100.0\n",
      "Accuracy on  mixed_same  :  83.75308641975309\n",
      "Accuracy on  mixed_next  :  67.4074074074074\n",
      "Accuracy on  mixed_rand  :  68.96296296296296\n",
      "Accuracy on  no_fg  :  51.925925925925924\n",
      "Accuracy on  only_bg_b  :  23.333333333333332\n",
      "Accuracy on  only_bg_t  :  31.358024691358025\n",
      "Accuracy on  only_fg  :  86.19753086419753\n"
     ]
    }
   ],
   "source": [
    "for variation in [\"original\",\"mixed_same\", \"mixed_next\", \"mixed_rand\", \"no_fg\", \"only_bg_b\", \"only_bg_t\", \"only_fg\"] :\n",
    "    acc = test_on_dataset(variation = variation, net=net)\n",
    "    print(\"Accuracy on \", variation, \" : \", acc)"
   ]
  },
  {
   "cell_type": "code",
   "execution_count": 10,
   "metadata": {},
   "outputs": [
    {
     "name": "stdout",
     "output_type": "stream",
     "text": [
      "Accuracy on  original  :  100.0\n",
      "Accuracy on  mixed_same  :  91.67901234567901\n",
      "Accuracy on  mixed_next  :  75.72839506172839\n",
      "Accuracy on  mixed_rand  :  78.74074074074075\n",
      "Accuracy on  no_fg  :  59.58024691358025\n",
      "Accuracy on  only_bg_b  :  27.876543209876544\n",
      "Accuracy on  only_bg_t  :  34.888888888888886\n",
      "Accuracy on  only_fg  :  93.75308641975309\n"
     ]
    }
   ],
   "source": [
    "for variation in [\"original\",\"mixed_same\", \"mixed_next\", \"mixed_rand\", \"no_fg\", \"only_bg_b\", \"only_bg_t\", \"only_fg\"] :\n",
    "    acc = test_on_dataset(variation = variation, net=temp_net)\n",
    "    print(\"Accuracy on \", variation, \" : \", acc)"
   ]
  },
  {
   "cell_type": "code",
   "execution_count": null,
   "metadata": {},
   "outputs": [],
   "source": []
  }
 ],
 "metadata": {
  "interpreter": {
   "hash": "5cbe5dddac4a504aec10b99e9994248c38bc561226fea72a4c0c378105f225ff"
  },
  "kernelspec": {
   "display_name": "Python 3.8.5 ('base')",
   "language": "python",
   "name": "python3"
  },
  "language_info": {
   "codemirror_mode": {
    "name": "ipython",
    "version": 3
   },
   "file_extension": ".py",
   "mimetype": "text/x-python",
   "name": "python",
   "nbconvert_exporter": "python",
   "pygments_lexer": "ipython3",
   "version": "3.8.5"
  },
  "orig_nbformat": 4
 },
 "nbformat": 4,
 "nbformat_minor": 2
}
